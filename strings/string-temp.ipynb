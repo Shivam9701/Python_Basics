{
 "cells": [
  {
   "cell_type": "code",
   "execution_count": 4,
   "metadata": {},
   "outputs": [
    {
     "name": "stdout",
     "output_type": "stream",
     "text": [
      "Hello world + dog\n"
     ]
    }
   ],
   "source": [
    "def hello (name, dog = 'cat'):\n",
    "    return \"Hello {} + {}\".format(name, dog)\n",
    "\n",
    "name = 'world'\n",
    "dog = 'dog'\n",
    "print(hello(name, dog))"
   ]
  },
  {
   "cell_type": "code",
   "execution_count": 6,
   "metadata": {},
   "outputs": [
    {
     "name": "stdout",
     "output_type": "stream",
     "text": [
      "(1, 4, 5, 7)\n",
      "{'a': 10, 'b': 20}\n",
      "(1, 4, 5, 7)\n",
      "(1, 4, 5, 7)\n",
      "{'a': 10, 'b': 20}\n",
      "1 4 5 7\n"
     ]
    }
   ],
   "source": [
    "# *args and **kwargs\n",
    "# *args - takes in a tuple and **kwargs - takes in a dictionary\n",
    "# *args is used to send a non-keyworded variable length argument list to the function\n",
    "# **kwargs allows you to pass keyworded variable length of arguments to a function\n",
    "def super_sum(*args, **kwargs):\n",
    "\n",
    "    print(args)\n",
    "    print(kwargs)\n",
    "    return args\n",
    "\n",
    "print(super_sum(1, 4, 5, 7, a = 10, b = 20))\n",
    "\n",
    "a,b,c,d = super_sum(1, 4, 5, 7, a = 10, b = 20)\n",
    "print(a, b, c, d)"
   ]
  },
  {
   "cell_type": "code",
   "execution_count": 12,
   "metadata": {},
   "outputs": [
    {
     "name": "stdout",
     "output_type": "stream",
     "text": [
      "args  (1, 2, 3, 4, 5)\n",
      "kwargs  {'a': 10, 'b': 20}\n",
      "15\n",
      "args  (1, 2, 3, 4, 5)\n",
      "kwargs  {'a': 10, 'b': 20}\n",
      "15\n"
     ]
    }
   ],
   "source": [
    "# Unpacking arguments\n",
    "def super_sum(*args, **kwargs):\n",
    "    print('args ', args)\n",
    "    print('kwargs ', kwargs)\n",
    "    return sum(args)\n",
    "\n",
    "l = [1, 2, 3, 4, 5]\n",
    "dic = {'a': 10, 'b': 20}\n",
    "print(super_sum(*l, **dic))\n",
    "# *l unpacks the list and passes the values to the function in the form of a tuple\n",
    "# **dic unpacks the dictionary and passes the values to the function in the form of a dictionary\n",
    "#alternatively\n",
    "print(super_sum(1, 2, 3, 4, 5, a = 10, b = 20))"
   ]
  }
 ],
 "metadata": {
  "kernelspec": {
   "display_name": "Python 3",
   "language": "python",
   "name": "python3"
  },
  "language_info": {
   "codemirror_mode": {
    "name": "ipython",
    "version": 3
   },
   "file_extension": ".py",
   "mimetype": "text/x-python",
   "name": "python",
   "nbconvert_exporter": "python",
   "pygments_lexer": "ipython3",
   "version": "3.11.6"
  }
 },
 "nbformat": 4,
 "nbformat_minor": 2
}
