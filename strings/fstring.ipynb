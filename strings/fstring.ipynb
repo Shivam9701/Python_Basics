{
 "cells": [
  {
   "cell_type": "code",
   "execution_count": 2,
   "metadata": {},
   "outputs": [
    {
     "name": "stdout",
     "output_type": "stream",
     "text": [
      "My John is Doe John.\n"
     ]
    }
   ],
   "source": [
    "fname = 'John'\n",
    "lname = 'Doe'\n",
    "\n",
    "sentence = 'My {0} is {1} {0}.'.format(fname, lname)\n",
    "print(sentence)"
   ]
  },
  {
   "cell_type": "code",
   "execution_count": 7,
   "metadata": {},
   "outputs": [
    {
     "name": "stdout",
     "output_type": "stream",
     "text": [
      "My JOHN is Doe\n"
     ]
    }
   ],
   "source": [
    "sentence = f'My {fname.upper()} is {lname.capitalize()}'\n",
    "print(sentence)"
   ]
  },
  {
   "cell_type": "code",
   "execution_count": 11,
   "metadata": {},
   "outputs": [
    {
     "name": "stdout",
     "output_type": "stream",
     "text": [
      "My name is John and I am 23 years old.\n"
     ]
    }
   ],
   "source": [
    "#for dict use double quotes for keys and single quotes for values\n",
    "#or vice versa\n",
    "\n",
    "person = {'name': 'John', 'age': 23}\n",
    "sentence = f'My name is {person[\"name\"]} and I am {person[\"age\"]} years old.'\n",
    "\n",
    "print(sentence)"
   ]
  },
  {
   "cell_type": "code",
   "execution_count": 16,
   "metadata": {},
   "outputs": [
    {
     "name": "stdout",
     "output_type": "stream",
     "text": [
      "The value is 001\n",
      "The value is 002\n",
      "The value is 003\n",
      "The value is 004\n",
      "The value is 005\n",
      "The value is 006\n",
      "The value is 007\n",
      "The value is 008\n",
      "The value is 009\n",
      "The value is 010\n"
     ]
    }
   ],
   "source": [
    "#formatting numbers with f-strings\n",
    "for n in range(1, 11):\n",
    "    sentence = f'The value is {n:03}'\n",
    "    print(sentence)"
   ]
  },
  {
   "cell_type": "code",
   "execution_count": 19,
   "metadata": {},
   "outputs": [
    {
     "name": "stdout",
     "output_type": "stream",
     "text": [
      "Pi is equal to 3.1416\n"
     ]
    }
   ],
   "source": [
    "#formatting numbers with f-strings flops\n",
    "pi = 3.14159265\n",
    "sen = f'Pi is equal to {pi:.4f}'\n",
    "print(sen)"
   ]
  },
  {
   "cell_type": "code",
   "execution_count": 20,
   "metadata": {},
   "outputs": [
    {
     "name": "stdout",
     "output_type": "stream",
     "text": [
      "John has a birthday on 1990-01-01 00:00:00\n",
      "John has a birthday on January 01, 1990\n"
     ]
    }
   ],
   "source": [
    "from datetime import datetime\n",
    "birthday = datetime(1990, 1, 1)\n",
    "sen = f'John has a birthday on {birthday}'\n",
    "print(sen)\n",
    "sen = f'John has a birthday on {birthday:%B %d, %Y}'\n",
    "print(sen)"
   ]
  },
  {
   "cell_type": "code",
   "execution_count": null,
   "metadata": {},
   "outputs": [],
   "source": []
  }
 ],
 "metadata": {
  "kernelspec": {
   "display_name": "Python 3",
   "language": "python",
   "name": "python3"
  },
  "language_info": {
   "codemirror_mode": {
    "name": "ipython",
    "version": 3
   },
   "file_extension": ".py",
   "mimetype": "text/x-python",
   "name": "python",
   "nbconvert_exporter": "python",
   "pygments_lexer": "ipython3",
   "version": "3.11.6"
  }
 },
 "nbformat": 4,
 "nbformat_minor": 2
}
