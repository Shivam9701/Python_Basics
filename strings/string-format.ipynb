{
 "cells": [
  {
   "cell_type": "code",
   "execution_count": 2,
   "metadata": {},
   "outputs": [
    {
     "name": "stdout",
     "output_type": "stream",
     "text": [
      "My dog is 24 years old\n"
     ]
    }
   ],
   "source": [
    "name = 'dog'\n",
    "age = 24\n",
    "\n",
    "sentence = 'My {} is {} years old'.format(name, age)\n",
    "print(sentence)\n",
    "\n"
   ]
  },
  {
   "cell_type": "code",
   "execution_count": 5,
   "metadata": {},
   "outputs": [
    {
     "name": "stdout",
     "output_type": "stream",
     "text": [
      "My dog is 24 years old dog\n"
     ]
    }
   ],
   "source": [
    "#better when you have values that are used multiple times\n",
    "\n",
    "sentence2 = 'My {0} is {1} years old {0}'.format(name, age)\n",
    "print(sentence2)"
   ]
  },
  {
   "cell_type": "code",
   "execution_count": 6,
   "metadata": {},
   "outputs": [
    {
     "name": "stdout",
     "output_type": "stream",
     "text": [
      "My Jenn is 23 years old\n"
     ]
    }
   ],
   "source": [
    "#or you can pass variable like dict and use {0[key]} to access the value\n",
    "person = {'name': 'Jenn', 'age': 23}\n",
    "sentence3 = 'My {0[name]} is {0[age]} years old'.format(person)\n",
    "print(sentence3)"
   ]
  },
  {
   "cell_type": "code",
   "execution_count": 7,
   "metadata": {},
   "outputs": [
    {
     "name": "stdout",
     "output_type": "stream",
     "text": [
      "My name is Jenn and I am 23 years old\n"
     ]
    }
   ],
   "source": [
    "#using kwargs\n",
    "name = 'Jenn'\n",
    "age = 23\n",
    "sentence4 = 'My name is {name} and I am {age} years old'.format(name=name, age=age)\n",
    "print(sentence4)"
   ]
  },
  {
   "cell_type": "code",
   "execution_count": 8,
   "metadata": {},
   "outputs": [
    {
     "name": "stdout",
     "output_type": "stream",
     "text": [
      "My name is Jenn and I am 23 years old\n"
     ]
    }
   ],
   "source": [
    "person = {'name': 'Jenn', 'age': 23}\n",
    "sentence5 = 'My name is {name} and I am {age} years old'.format(**person)\n",
    "print(sentence5)"
   ]
  },
  {
   "cell_type": "code",
   "execution_count": null,
   "metadata": {},
   "outputs": [],
   "source": []
  }
 ],
 "metadata": {
  "kernelspec": {
   "display_name": "Python 3",
   "language": "python",
   "name": "python3"
  },
  "language_info": {
   "codemirror_mode": {
    "name": "ipython",
    "version": 3
   },
   "file_extension": ".py",
   "mimetype": "text/x-python",
   "name": "python",
   "nbconvert_exporter": "python",
   "pygments_lexer": "ipython3",
   "version": "3.11.6"
  }
 },
 "nbformat": 4,
 "nbformat_minor": 2
}
