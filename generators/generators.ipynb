{
 "cells": [
  {
   "cell_type": "code",
   "execution_count": 14,
   "metadata": {},
   "outputs": [
    {
     "name": "stdout",
     "output_type": "stream",
     "text": [
      "1\n",
      "[4, 9, 16, 25]\n"
     ]
    }
   ],
   "source": [
    "def square(nums):\n",
    "    for nums in nums:\n",
    "        yield nums * nums\n",
    "\n",
    "# generators dont hold the entire result in memory, they yield one result at a time\n",
    "squares = square([1,2,3,4,5])\n",
    "# either use a for loop or next() to get the next result or convert to a list\n",
    "print (next((squares)))\n",
    "print (list(squares))"
   ]
  },
  {
   "cell_type": "code",
   "execution_count": 10,
   "metadata": {},
   "outputs": [
    {
     "name": "stdout",
     "output_type": "stream",
     "text": [
      "1\n",
      "4\n",
      "9\n",
      "16\n",
      "25\n"
     ]
    }
   ],
   "source": [
    "squares_2 = square([1,2,3,4,5])\n",
    "for square in squares_2:\n",
    "    print(square)"
   ]
  },
  {
   "cell_type": "code",
   "execution_count": 12,
   "metadata": {},
   "outputs": [
    {
     "name": "stdout",
     "output_type": "stream",
     "text": [
      "<generator object <genexpr> at 0x00000261A46AC6C0>\n",
      "1\n",
      "4\n",
      "9\n",
      "16\n",
      "25\n"
     ]
    }
   ],
   "source": [
    "# generator expression (similar to list comprehension) \n",
    "# but uses () instead of []\n",
    "\n",
    "my_nums_2 = (x*x for x in [1,2,3,4,5])\n",
    "print (my_nums_2)\n",
    "for num in my_nums_2:\n",
    "    print(num)"
   ]
  },
  {
   "cell_type": "code",
   "execution_count": 15,
   "metadata": {},
   "outputs": [
    {
     "name": "stdout",
     "output_type": "stream",
     "text": [
      "[1, 4, 9, 16, 25]\n"
     ]
    }
   ],
   "source": [
    "my_nums_3 = (x*x for x in [1,2,3,4,5])\n",
    "print (list(my_nums_3))"
   ]
  },
  {
   "cell_type": "code",
   "execution_count": null,
   "metadata": {},
   "outputs": [],
   "source": []
  }
 ],
 "metadata": {
  "kernelspec": {
   "display_name": "Python 3",
   "language": "python",
   "name": "python3"
  },
  "language_info": {
   "codemirror_mode": {
    "name": "ipython",
    "version": 3
   },
   "file_extension": ".py",
   "mimetype": "text/x-python",
   "name": "python",
   "nbconvert_exporter": "python",
   "pygments_lexer": "ipython3",
   "version": "3.11.6"
  }
 },
 "nbformat": 4,
 "nbformat_minor": 2
}
