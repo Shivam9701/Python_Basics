{
 "cells": [
  {
   "cell_type": "code",
   "execution_count": 3,
   "metadata": {},
   "outputs": [
    {
     "name": "stdout",
     "output_type": "stream",
     "text": [
      "File is closed:  True\n"
     ]
    }
   ],
   "source": [
    "# context manager - with statement - contextlib\n",
    "# they are used to manage resources, such as files, network connections, locks, etc., and ensure that they are properly released or cleaned up when they are no longer needed.\n",
    "# context managers are implemented using the with statement and the contextlib module.\n",
    "import os\n",
    "\n",
    "\n",
    "# os.chdir(\"c:/Users/shiva/OneDrive/Desktop/python-basics/file_handling\")\n",
    "# using class\n",
    "class Open_File:\n",
    "    def __init__(self, filename, mode):\n",
    "        self.filename = filename\n",
    "        self.mode = mode\n",
    "\n",
    "    def __enter__(self):\n",
    "        self.file = open(self.filename, self.mode)\n",
    "        return self.file\n",
    "\n",
    "    def __exit__(self, exc_type, exc_value, traceback):\n",
    "        self.file.close()\n",
    "\n",
    "\n",
    "with Open_File(\"test.txt\", \"w\") as file:\n",
    "    file.writelines([\"Hello, this is a test file\\n\", \"This is the second line\"])\n",
    "\n",
    "print(\"File is closed: \", file.closed)\n"
   ]
  },
  {
   "cell_type": "code",
   "execution_count": 9,
   "metadata": {},
   "outputs": [
    {
     "name": "stdout",
     "output_type": "stream",
     "text": [
      "File is closed:  False\n",
      "Closing file\n"
     ]
    }
   ],
   "source": [
    "# using contextlib\n",
    "from contextlib import contextmanager\n",
    "\n",
    "os.chdir(\"c:/Users/shiva/OneDrive/Desktop/python-basics/file_handling\")\n",
    "\n",
    "\n",
    "@contextmanager\n",
    "def open_file(file, mode):\n",
    "    try:\n",
    "        f = open(file, mode)\n",
    "        yield f\n",
    "    finally:\n",
    "        print(\"Closing file\")\n",
    "        f.close()\n",
    "\n",
    "\n",
    "with open_file(\"test.txt\", \"w\") as file:\n",
    "    print(\"File is closed: \", file.closed)\n",
    "    file.writelines([\"Danke, this is a test file\\n\", \"This is the second line\"])\n"
   ]
  },
  {
   "cell_type": "code",
   "execution_count": 4,
   "metadata": {},
   "outputs": [
    {
     "name": "stdout",
     "output_type": "stream",
     "text": [
      "c:\\Users\\shiva\\OneDrive\\Desktop\\python-basics\\basic-ds-&-funcs\n"
     ]
    },
    {
     "data": {
      "text/plain": [
       "'c:\\\\Users\\\\shiva\\\\OneDrive\\\\Desktop\\\\python-basics\\\\classes'"
      ]
     },
     "execution_count": 4,
     "metadata": {},
     "output_type": "execute_result"
    }
   ],
   "source": [
    "print(os.getcwd())\n",
    "os.chdir(\"c:/Users/shiva/OneDrive/Desktop/python-basics/classes\")\n",
    "os.getcwd()\n"
   ]
  },
  {
   "cell_type": "code",
   "execution_count": 10,
   "metadata": {},
   "outputs": [],
   "source": [
    "for filename in os.listdir():\n",
    "    newname = filename.replace(\"-\", \"_\")\n",
    "    os.rename(filename, newname)"
   ]
  },
  {
   "cell_type": "code",
   "execution_count": 11,
   "metadata": {},
   "outputs": [
    {
     "name": "stdout",
     "output_type": "stream",
     "text": [
      "oop_1.ipynb\n",
      "oop_2.ipynb\n",
      "oop_3_static.ipynb\n",
      "oop_4_inherit.ipynb\n",
      "oop_5_special_methods.ipynb\n",
      "oop_6_prop_dec.ipynb\n"
     ]
    }
   ],
   "source": [
    "for filename in os.listdir():\n",
    "    if filename.endswith(\".ipynb\"):\n",
    "        print(filename)"
   ]
  },
  {
   "cell_type": "code",
   "execution_count": 18,
   "metadata": {},
   "outputs": [],
   "source": [
    "os.chdir(\"c:/Users/shiva/OneDrive/Desktop/python-basics/basic-ds-&-funcs\")\n",
    "\n",
    "\n",
    "@contextmanager\n",
    "def print_files(folder_name):\n",
    "    cwd = os.getcwd()\n",
    "    try:\n",
    "        os.chdir(f\"../{folder_name}\")\n",
    "        yield\n",
    "        print(\"After the yield\")\n",
    "    except FileNotFoundError:\n",
    "        print(\"Folder not found\")\n",
    "    finally:\n",
    "        os.chdir(cwd)"
   ]
  },
  {
   "cell_type": "code",
   "execution_count": 19,
   "metadata": {},
   "outputs": [
    {
     "name": "stdout",
     "output_type": "stream",
     "text": [
      "['csv.ipynb', 'data-for-renaming', 'file-rename.ipynb', 'files.ipynb', 'img_copy.png', 'img_copy2.png', 'imh.png', 'names.csv', 'new_names.csv', 'test.txt', 'test2.txt', 'test_copy.txt']\n",
      "After the yield\n",
      "c:\\Users\\shiva\\OneDrive\\Desktop\\python-basics\\basic-ds-&-funcs\n"
     ]
    }
   ],
   "source": [
    "with print_files(\"file_handling\"):\n",
    "    print(os.listdir())\n",
    "\n",
    "print(os.getcwd())"
   ]
  },
  {
   "cell_type": "code",
   "execution_count": null,
   "metadata": {},
   "outputs": [],
   "source": []
  }
 ],
 "metadata": {
  "kernelspec": {
   "display_name": "Python 3",
   "language": "python",
   "name": "python3"
  },
  "language_info": {
   "codemirror_mode": {
    "name": "ipython",
    "version": 3
   },
   "file_extension": ".py",
   "mimetype": "text/x-python",
   "name": "python",
   "nbconvert_exporter": "python",
   "pygments_lexer": "ipython3",
   "version": "3.11.6"
  }
 },
 "nbformat": 4,
 "nbformat_minor": 2
}
