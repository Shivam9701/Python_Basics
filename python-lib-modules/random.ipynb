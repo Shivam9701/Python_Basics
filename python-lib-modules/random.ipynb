{
 "cells": [
  {
   "cell_type": "code",
   "execution_count": 6,
   "metadata": {},
   "outputs": [
    {
     "name": "stdout",
     "output_type": "stream",
     "text": [
      "1\n",
      "9\n",
      "4\n"
     ]
    }
   ],
   "source": [
    "import random\n",
    "import math\n",
    "\n",
    "print(math.ceil(random.random())) #bw 0 and 1 float\n",
    "\n",
    "print(random.randint(1, 10)) #bw 1 and 10 int\n",
    "print(random.randrange(1, 10)) #bw 1 and 9 int"
   ]
  },
  {
   "cell_type": "code",
   "execution_count": 8,
   "metadata": {},
   "outputs": [
    {
     "name": "stdout",
     "output_type": "stream",
     "text": [
      "4.433145842570265\n",
      "6.9586749345202055\n",
      "0.1595253915238931\n"
     ]
    }
   ],
   "source": [
    "print(random.uniform(1, 10)) #bw 1 and 10 float\n",
    "print(random.triangular(1, 10)) #bw 1 and 10 fl\n",
    "print(random.betavariate(1, 10)) #bw 0 and 1 fl alpha beta params"
   ]
  },
  {
   "cell_type": "code",
   "execution_count": 16,
   "metadata": {},
   "outputs": [
    {
     "name": "stdout",
     "output_type": "stream",
     "text": [
      "6\n",
      "[4, 9, 2]\n"
     ]
    }
   ],
   "source": [
    "print(random.choice([1, 2, 3, 4, 5, 6, 7, 8, 9, 10])) #random element from list\n",
    "print(random.sample([1, 2, 3, 4, 5, 6, 7, 8, 9, 10], 3)) \n",
    "#random 3 elements from list unique\n"
   ]
  },
  {
   "cell_type": "code",
   "execution_count": 15,
   "metadata": {},
   "outputs": [
    {
     "name": "stdout",
     "output_type": "stream",
     "text": [
      "[6, 3, 3]\n"
     ]
    }
   ],
   "source": [
    "weights = [1, 1, 1, 1, 1, 1, 1, 1, 1, 1]\n",
    "print(random.choices([1, 2, 3, 4, 5, 6, 7, 8, 9, 10], weights = weights, \n",
    "k=3)) #random 3 elements from list with replacement"
   ]
  },
  {
   "cell_type": "code",
   "execution_count": 17,
   "metadata": {},
   "outputs": [
    {
     "name": "stdout",
     "output_type": "stream",
     "text": [
      "[47, 29, 23, 10, 8, 36, 48, 40, 49, 4, 17, 39, 14, 44, 33, 26, 52, 28, 38, 1, 15, 21, 30, 45, 19, 5, 20, 41, 32, 51, 2, 25, 18, 35, 22, 46, 34, 6, 42, 9, 50, 43, 11, 31, 3, 27, 0, 37, 13, 12, 16, 7, 24]\n"
     ]
    }
   ],
   "source": [
    "deck = list (range(53))\n",
    "random.shuffle(deck)\n",
    "print(deck)"
   ]
  },
  {
   "cell_type": "code",
   "execution_count": null,
   "metadata": {},
   "outputs": [],
   "source": []
  }
 ],
 "metadata": {
  "kernelspec": {
   "display_name": "Python 3",
   "language": "python",
   "name": "python3"
  },
  "language_info": {
   "codemirror_mode": {
    "name": "ipython",
    "version": 3
   },
   "file_extension": ".py",
   "mimetype": "text/x-python",
   "name": "python",
   "nbconvert_exporter": "python",
   "pygments_lexer": "ipython3",
   "version": "3.11.6"
  }
 },
 "nbformat": 4,
 "nbformat_minor": 2
}
