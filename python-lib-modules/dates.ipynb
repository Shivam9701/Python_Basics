{
 "cells": [
  {
   "cell_type": "code",
   "execution_count": 23,
   "metadata": {},
   "outputs": [
    {
     "name": "stdout",
     "output_type": "stream",
     "text": [
      "2020-01-01\n"
     ]
    }
   ],
   "source": [
    "from datetime import date, timedelta, time, datetime\n",
    "d = date(year = 2020, day = 1, month = 1)\n",
    "print(d)\n",
    "\n"
   ]
  },
  {
   "cell_type": "code",
   "execution_count": 10,
   "metadata": {},
   "outputs": [
    {
     "name": "stdout",
     "output_type": "stream",
     "text": [
      "2024-02-13\n"
     ]
    }
   ],
   "source": [
    "tday = date.today()\n",
    "print(tday)"
   ]
  },
  {
   "cell_type": "code",
   "execution_count": 12,
   "metadata": {},
   "outputs": [
    {
     "name": "stdout",
     "output_type": "stream",
     "text": [
      "tday is 2 or 1\n"
     ]
    }
   ],
   "source": [
    "sen = f'tday is {tday.isoweekday()} or {tday.weekday()}' \n",
    "# 1 is monday fr isoweekday 0 for weekday\n",
    "print(sen)"
   ]
  },
  {
   "cell_type": "code",
   "execution_count": 22,
   "metadata": {},
   "outputs": [
    {
     "name": "stdout",
     "output_type": "stream",
     "text": [
      "2024-02-20\n"
     ]
    }
   ],
   "source": [
    "tdelta = timedelta(days = 7)\n",
    "print(tday + tdelta) # 13 feb + 7 days = 20 feb"
   ]
  },
  {
   "cell_type": "code",
   "execution_count": 18,
   "metadata": {},
   "outputs": [
    {
     "name": "stdout",
     "output_type": "stream",
     "text": [
      "1504 days, 0:00:00\n"
     ]
    }
   ],
   "source": [
    "ntdelta = tday - d\n",
    "print(ntdelta)"
   ]
  },
  {
   "cell_type": "code",
   "execution_count": 20,
   "metadata": {},
   "outputs": [
    {
     "name": "stdout",
     "output_type": "stream",
     "text": [
      "12:30:45.100000\n"
     ]
    }
   ],
   "source": [
    "t = time(tzinfo=None, hour=12, minute=30, second=45, microsecond=100000)\n",
    "print(t)"
   ]
  },
  {
   "cell_type": "code",
   "execution_count": 25,
   "metadata": {},
   "outputs": [
    {
     "name": "stdout",
     "output_type": "stream",
     "text": [
      "2020-02-13 12:30:45.100000\n",
      "1461 days, 4:32:14.500648\n"
     ]
    }
   ],
   "source": [
    "newdt = datetime(2020, 2, 13, 12, 30, 45, 100000)\n",
    "today = datetime.today()\n",
    "print(newdt)\n",
    "print(today - newdt)"
   ]
  },
  {
   "cell_type": "code",
   "execution_count": 28,
   "metadata": {},
   "outputs": [
    {
     "name": "stdout",
     "output_type": "stream",
     "text": [
      "2020-02-13 12:30:45+00:00\n",
      "2024-02-13 11:38:21.655608+00:00\n"
     ]
    }
   ],
   "source": [
    "import pytz\n",
    "\n",
    "dt = datetime(2020, 2, 13, 12, 30, 45, tzinfo=pytz.UTC)\n",
    "print(dt)\n",
    "\n",
    "ndt = datetime.now(tz=pytz.UTC)\n",
    "print(ndt)"
   ]
  },
  {
   "cell_type": "code",
   "execution_count": 29,
   "metadata": {},
   "outputs": [
    {
     "name": "stdout",
     "output_type": "stream",
     "text": [
      "2024-02-13 17:09:49.402408+05:30\n"
     ]
    }
   ],
   "source": [
    "dt_ind = datetime.now(tz=pytz.timezone('Asia/Kolkata'))\n",
    "print(dt_ind)"
   ]
  },
  {
   "cell_type": "code",
   "execution_count": null,
   "metadata": {},
   "outputs": [],
   "source": []
  }
 ],
 "metadata": {
  "kernelspec": {
   "display_name": "Python 3",
   "language": "python",
   "name": "python3"
  },
  "language_info": {
   "codemirror_mode": {
    "name": "ipython",
    "version": 3
   },
   "file_extension": ".py",
   "mimetype": "text/x-python",
   "name": "python",
   "nbconvert_exporter": "python",
   "pygments_lexer": "ipython3",
   "version": "3.11.6"
  }
 },
 "nbformat": 4,
 "nbformat_minor": 2
}
