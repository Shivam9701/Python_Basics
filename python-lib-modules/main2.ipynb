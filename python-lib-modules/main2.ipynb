{
 "cells": [
  {
   "cell_type": "code",
   "execution_count": 1,
   "metadata": {},
   "outputs": [
    {
     "name": "stdout",
     "output_type": "stream",
     "text": [
      "First modulename :first_main\n",
      "First_main.py is being imported into another module.\n",
      "Second modulename :__main__\n"
     ]
    }
   ],
   "source": [
    "import first_main\n",
    "\n",
    "print(f\"Second modulename :{ __name__}\")\n",
    "# first_main.main()  # this will call the main function of first_main module\n",
    "\n",
    "\n",
    "# __name__ is a special variable in python which is used to check if the module is being run directly or being imported\n",
    "# if the module is being run directly then the value of __name__ will be __main__ else it will be the name of the module\n",
    "# so in this case the value of __name__ will be first_main\n",
    "# so the main function of first_main will not be called\n",
    "# to call the main function of first_main we need to import the module first_main and then call the main function\n"
   ]
  },
  {
   "cell_type": "code",
   "execution_count": null,
   "metadata": {},
   "outputs": [],
   "source": []
  }
 ],
 "metadata": {
  "kernelspec": {
   "display_name": "Python 3",
   "language": "python",
   "name": "python3"
  },
  "language_info": {
   "codemirror_mode": {
    "name": "ipython",
    "version": 3
   },
   "file_extension": ".py",
   "mimetype": "text/x-python",
   "name": "python",
   "nbconvert_exporter": "python",
   "pygments_lexer": "ipython3",
   "version": "3.11.6"
  }
 },
 "nbformat": 4,
 "nbformat_minor": 2
}
