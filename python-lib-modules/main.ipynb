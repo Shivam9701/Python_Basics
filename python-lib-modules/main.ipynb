{
 "cells": [
  {
   "cell_type": "code",
   "execution_count": 3,
   "metadata": {},
   "outputs": [
    {
     "name": "stdout",
     "output_type": "stream",
     "text": [
      "First modulename :__main__\n",
      "Hello, World!\n",
      "This is a test of the Python 3 interpreter.\n"
     ]
    }
   ],
   "source": [
    "print(f\"First modulename :{ __name__}\")\n",
    "\n",
    "# main is the entry point of the program \n",
    "# it is the first function to be called when the program starts\n",
    "def main():\n",
    "    print(\"Hello, World!\\nThis is a test of the Python 3 interpreter.\")\n",
    "\n",
    "\n",
    "if __name__ == \"__main__\":\n",
    "    main()\n"
   ]
  },
  {
   "cell_type": "code",
   "execution_count": null,
   "metadata": {},
   "outputs": [],
   "source": []
  }
 ],
 "metadata": {
  "kernelspec": {
   "display_name": "Python 3",
   "language": "python",
   "name": "python3"
  },
  "language_info": {
   "codemirror_mode": {
    "name": "ipython",
    "version": 3
   },
   "file_extension": ".py",
   "mimetype": "text/x-python",
   "name": "python",
   "nbconvert_exporter": "python",
   "pygments_lexer": "ipython3",
   "version": "3.11.6"
  }
 },
 "nbformat": 4,
 "nbformat_minor": 2
}
