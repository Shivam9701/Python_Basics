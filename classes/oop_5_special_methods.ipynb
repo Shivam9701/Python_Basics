{
 "cells": [
  {
   "cell_type": "code",
   "execution_count": 7,
   "metadata": {},
   "outputs": [
    {
     "name": "stdout",
     "output_type": "stream",
     "text": [
      "Corey Schafer - Corey.Schafer@company.com\n",
      "Employee('Corey', 'Schafer', '50000')\n",
      "Corey Schafer - Corey.Schafer@company.com\n",
      "Employee('Corey', 'Schafer', '50000')\n",
      "Corey Schafer - Corey.Schafer@company.com\n"
     ]
    }
   ],
   "source": [
    "class Employee:\n",
    "    raise_amt = 1.04\n",
    "\n",
    "    # special method to create an instance of the class\n",
    "    def __init__(self, first, last, pay):  # instance variable\n",
    "        self.first = first\n",
    "        self.last = last\n",
    "        self.pay = pay\n",
    "        self.email = f\"{first}.{last}@company.com\"\n",
    "\n",
    "    def fullname(self):\n",
    "        return f\"{self.first} {self.last}\"\n",
    "\n",
    "    # special method to print the instance of the class\n",
    "    def __repr__(self):\n",
    "        return f\"Employee('{self.first}', '{self.last}', '{self.pay}')\"\n",
    "\n",
    "    # str vs repr - str is more for the end user, repr is more for debugging\n",
    "    # fallbackk for str is repr, if str is not defined, repr will be used, if repr is not defined, object will be printed when print(obj) is called\n",
    "    def __str__(self):\n",
    "        return f\"{self.fullname()} - {self.email}\"\n",
    "\n",
    "    def apply_raise(self):\n",
    "        self.pay = int(self.pay * self.raise_amt)\n",
    "        return self.pay\n",
    "\n",
    "    # dunder add method to add two instances of the class\n",
    "    def __add__(self, other):\n",
    "        return self.pay + other.pay\n",
    "\n",
    "    # dunder len method to get the length of the fullname\n",
    "    def __len__(self):\n",
    "        return len(self.fullname())\n",
    "\n",
    "\n",
    "emp1 = Employee(\"Corey\", \"Schafer\", 50000)\n",
    "emp2 = Employee(\"Test\", \"User\", 60000)\n",
    "print(emp1)\n",
    "print(repr(emp1))\n",
    "print(str(emp1))\n",
    "print(emp1.__repr__())\n",
    "print(emp1.__str__())"
   ]
  },
  {
   "cell_type": "code",
   "execution_count": 8,
   "metadata": {},
   "outputs": [
    {
     "name": "stdout",
     "output_type": "stream",
     "text": [
      "110000\n",
      "110000\n",
      "110000\n",
      "13\n",
      "13\n",
      "13\n"
     ]
    }
   ],
   "source": [
    "print(emp1 + emp2)\n",
    "print(emp1.__add__(emp2))\n",
    "print(Employee.__add__(emp1, emp2))\n",
    "\n",
    "print(len(emp1))\n",
    "print(emp1.__len__())\n",
    "print(Employee.__len__(emp1))"
   ]
  },
  {
   "cell_type": "code",
   "execution_count": null,
   "metadata": {},
   "outputs": [],
   "source": []
  }
 ],
 "metadata": {
  "kernelspec": {
   "display_name": "Python 3",
   "language": "python",
   "name": "python3"
  },
  "language_info": {
   "codemirror_mode": {
    "name": "ipython",
    "version": 3
   },
   "file_extension": ".py",
   "mimetype": "text/x-python",
   "name": "python",
   "nbconvert_exporter": "python",
   "pygments_lexer": "ipython3",
   "version": "3.11.6"
  }
 },
 "nbformat": 4,
 "nbformat_minor": 2
}
