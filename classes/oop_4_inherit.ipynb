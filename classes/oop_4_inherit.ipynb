{
 "cells": [
  {
   "cell_type": "code",
   "execution_count": 3,
   "metadata": {},
   "outputs": [
    {
     "name": "stdout",
     "output_type": "stream",
     "text": [
      "Engineer('Corey', 'Schafer', '50000', 'Python')\n",
      "Corey Schafer\n"
     ]
    }
   ],
   "source": [
    "class Employee:\n",
    "    raise_amt = 1.04\n",
    "\n",
    "    def __init__(self, first, last, pay):  # instance variable\n",
    "        self.first = first\n",
    "        self.last = last\n",
    "        self.pay = pay\n",
    "\n",
    "    def fullname(self):\n",
    "        return f\"{self.first} {self.last}\"\n",
    "\n",
    "    def __repr__(self):\n",
    "        return f\"Employee('{self.first}', '{self.last}', '{self.pay}')\"\n",
    "\n",
    "    def apply_raise(self):\n",
    "        self.pay = int(self.pay * self.raise_amt)\n",
    "        return self.pay"
   ]
  },
  {
   "cell_type": "code",
   "execution_count": 4,
   "metadata": {},
   "outputs": [
    {
     "name": "stdout",
     "output_type": "stream",
     "text": [
      "Engineer('Corey', 'Schafer', '50000', 'Python')\n",
      "Corey Schafer\n"
     ]
    }
   ],
   "source": [
    "class Engineer(Employee):\n",
    "    raise_amt = 1.10\n",
    "\n",
    "    def __init__(self, first, last, pay, prog_lang):\n",
    "        super().__init__(first, last, pay)\n",
    "        self.prog_lang = prog_lang\n",
    "\n",
    "    def __repr__(self):\n",
    "        return (\n",
    "            f\"Engineer('{self.first}', '{self.last}', '{self.pay}', '{self.prog_lang}')\"\n",
    "        )\n",
    "\n",
    "\n",
    "# print(help(Engineer))\n",
    "eng_1 = Engineer(\"Corey\", \"Schafer\", 50000, \"Python\")\n",
    "print(eng_1)\n",
    "print(eng_1.fullname())\n",
    "\n",
    "eng_2 = Engineer(\"Test\", \"User\", 60000, \"Java\")\n",
    "eng_3 = Engineer(\"Mama\", \"Mia\", 70000, \"C++\")\n",
    "eng_4 = Engineer(\"Papa\", \"Pia\", 80000, \"C#\")\n",
    "eng_5 = Engineer(\"Sister\", \"Sia\", 90000, \"Ruby\")\n",
    "eng_6 = Engineer(\"Brother\", \"Bia\", 100000, \"Go\")\n",
    "eng_7 = Engineer(\"Aunt\", \"Aia\", 110000, \"Rust\")\n"
   ]
  },
  {
   "cell_type": "code",
   "execution_count": 7,
   "metadata": {},
   "outputs": [
    {
     "name": "stdout",
     "output_type": "stream",
     "text": [
      "Employees of Sue Smith\n",
      "--> Engineer('Corey', 'Schafer', '50000', 'Python')\n",
      "--> Engineer('Mama', 'Mia', '70000', 'C++')\n",
      "--> Engineer('Brother', 'Bia', '100000', 'Go')\n"
     ]
    }
   ],
   "source": [
    "class Manager(Employee):\n",
    "    raise_amt = 1.50\n",
    "\n",
    "    def __init__(self, first, last, pay, employees=None):\n",
    "        super().__init__(first, last, pay)\n",
    "        if employees is None:\n",
    "            self.employees = []\n",
    "        else:\n",
    "            self.employees = employees\n",
    "\n",
    "    def add_emp(self, emp):\n",
    "        if emp not in self.employees:\n",
    "            self.employees.append(emp)\n",
    "\n",
    "    def remove_emp(self, emp):\n",
    "        if emp in self.employees:\n",
    "            self.employees.remove(emp)\n",
    "\n",
    "    def print_emps(self):\n",
    "        print(f\"Employees of {self.fullname()}\")\n",
    "        for emp in self.employees:\n",
    "            print(\"-->\", emp)\n",
    "\n",
    "\n",
    "mgr_1 = Manager(\"Sue\", \"Smith\", 90000, [eng_1, eng_3, eng_6])\n",
    "mgr_1.print_emps()"
   ]
  },
  {
   "cell_type": "code",
   "execution_count": 9,
   "metadata": {},
   "outputs": [
    {
     "name": "stdout",
     "output_type": "stream",
     "text": [
      "True\n",
      "True\n",
      "False\n"
     ]
    }
   ],
   "source": [
    "print(isinstance(mgr_1, Manager))\n",
    "print(isinstance(mgr_1, Employee))\n",
    "print(isinstance(mgr_1, Engineer))\n",
    "\n"
   ]
  },
  {
   "cell_type": "code",
   "execution_count": null,
   "metadata": {},
   "outputs": [],
   "source": []
  }
 ],
 "metadata": {
  "kernelspec": {
   "display_name": "Python 3",
   "language": "python",
   "name": "python3"
  },
  "language_info": {
   "codemirror_mode": {
    "name": "ipython",
    "version": 3
   },
   "file_extension": ".py",
   "mimetype": "text/x-python",
   "name": "python",
   "nbconvert_exporter": "python",
   "pygments_lexer": "ipython3",
   "version": "3.11.6"
  }
 },
 "nbformat": 4,
 "nbformat_minor": 2
}
