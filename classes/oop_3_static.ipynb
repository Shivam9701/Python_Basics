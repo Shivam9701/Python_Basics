{
 "cells": [
  {
   "cell_type": "code",
   "execution_count": 10,
   "metadata": {},
   "outputs": [],
   "source": [
    "class Employee:\n",
    "\n",
    "    num_of_emps = 0  # class variable - shared among all instances\n",
    "    raise_amt = 1.04  # class variable - shared among all instances\n",
    "\n",
    "    def __init__(self, first, last, pay):  # instance variable\n",
    "        self.first = first\n",
    "        self.last = last\n",
    "        self.pay = pay\n",
    "        Employee.num_of_emps += 1\n",
    "\n",
    "    def fullname(self):\n",
    "        return f\"{self.first} {self.last}\"\n",
    "\n",
    "    def __repr__(self) -> str:\n",
    "        return f\"Employee('{self.first}', '{self.last}', '{self.pay}')\"\n",
    "\n",
    "    def apply_raise(self):\n",
    "        self.pay = int(self.pay * self.raise_amt)\n",
    "        return self.pay\n",
    "\n",
    "    @classmethod  # class method - can be used to change class variables\n",
    "    def set_raise_amt(cls, amount):\n",
    "        cls.raise_amt = amount\n",
    "\n",
    "    @classmethod  # returns a new instance of the class\n",
    "    def from_string(cls, emp_str):\n",
    "        first, last, pay = emp_str.split(\"-\")\n",
    "        return cls(first, last, pay)\n",
    "\n",
    "    @staticmethod  # does not take self or cls as first argument\n",
    "    def is_workday(day):\n",
    "        return not (day.weekday() == 5 or day.weekday() == 6)"
   ]
  },
  {
   "cell_type": "code",
   "execution_count": 2,
   "metadata": {},
   "outputs": [
    {
     "name": "stdout",
     "output_type": "stream",
     "text": [
      "In 2022, the raise amount is 1.04 so salary of Corey Schafer got raised from 50000 to 52000\n",
      "In 2023, the raise amount is 1.05 so salary of Corey Schafer got raised from 52000 to 54600\n"
     ]
    }
   ],
   "source": [
    "Emp_1 = Employee(\"Corey\", \"Schafer\", 50000)\n",
    "Emp_2 = Employee(\"Test\", \"User\", 60000)\n",
    "\n",
    "print(\n",
    "    f\"In 2022, the raise amount is {Employee.raise_amt} so salary of {Emp_1.fullname()} got raised from {Emp_1.pay} to {Emp_1.apply_raise()}\"\n",
    ")\n",
    "\n",
    "Employee.set_raise_amt(1.05)  # using class method to change class variable\n",
    "# or Emp_1.set_raise_amt(1.05) - same result\n",
    "print(\n",
    "    f\"In 2023, the raise amount is {Employee.raise_amt} so salary of {Emp_1.fullname()} got raised from {Emp_1.pay} to {Emp_1.apply_raise()}\"\n",
    ")"
   ]
  },
  {
   "cell_type": "code",
   "execution_count": 4,
   "metadata": {},
   "outputs": [
    {
     "name": "stdout",
     "output_type": "stream",
     "text": [
      "Employee('John', 'Doe', '70000')\n"
     ]
    }
   ],
   "source": [
    "emp_3_str = \"John-Doe-70000\"\n",
    "first, last, pay = emp_3_str.split(\"-\")\n",
    "emp_3 = Employee(first, last, pay)\n",
    "print(emp_3)\n"
   ]
  },
  {
   "cell_type": "code",
   "execution_count": 7,
   "metadata": {},
   "outputs": [
    {
     "name": "stdout",
     "output_type": "stream",
     "text": [
      "Employee('Jack', 'Arnold', '80000')\n"
     ]
    }
   ],
   "source": [
    "emp_4 = Employee.from_string(\"Jack-Arnold-80000\")\n",
    "print(emp_4)\n"
   ]
  },
  {
   "cell_type": "code",
   "execution_count": 12,
   "metadata": {},
   "outputs": [
    {
     "name": "stdout",
     "output_type": "stream",
     "text": [
      "False 5\n"
     ]
    }
   ],
   "source": [
    "import datetime\n",
    "\n",
    "tday = datetime.date(2022, 1, 1)\n",
    "print(Employee.is_workday(tday), tday.weekday())  # True\n"
   ]
  },
  {
   "cell_type": "code",
   "execution_count": null,
   "metadata": {},
   "outputs": [],
   "source": []
  }
 ],
 "metadata": {
  "kernelspec": {
   "display_name": "Python 3",
   "language": "python",
   "name": "python3"
  },
  "language_info": {
   "codemirror_mode": {
    "name": "ipython",
    "version": 3
   },
   "file_extension": ".py",
   "mimetype": "text/x-python",
   "name": "python",
   "nbconvert_exporter": "python",
   "pygments_lexer": "ipython3",
   "version": "3.11.6"
  }
 },
 "nbformat": 4,
 "nbformat_minor": 2
}
