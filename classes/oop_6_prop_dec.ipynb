{
 "cells": [
  {
   "cell_type": "code",
   "execution_count": 11,
   "metadata": {},
   "outputs": [],
   "source": [
    "class Employee:\n",
    "    raise_amt = 1.04\n",
    "\n",
    "    # special method to create an instance of the class\n",
    "    def __init__(self, first, last):  # instance variable\n",
    "        self.first = first\n",
    "        self.last = last\n",
    "\n",
    "    @property\n",
    "    def fullname(self):\n",
    "        return f\"{self.first} {self.last}\"\n",
    "\n",
    "    # property decorator - allows us to access the method as an attribute\n",
    "    # getter\n",
    "    @property\n",
    "    def email(self):\n",
    "        return f\"{self.first}.{self.last}@company.com\"\n",
    "\n",
    "    # setter - allows us to set the value of the attribute\n",
    "    @fullname.setter\n",
    "    def fullname(self, name):\n",
    "        first, last = name.split(\" \")\n",
    "        self.first = first\n",
    "        self.last = last\n",
    "\n",
    "    # deleter - allows us to delete the attribute\n",
    "    @fullname.deleter\n",
    "    def fullname(self):\n",
    "        print(f\"Delete Name! {self.first} {self.last}\")\n",
    "        self.first = None\n",
    "        self.last = None\n",
    "\n",
    "    def __repr__(self):\n",
    "        return f\"Employee('{self.first}', '{self.last}', '{self.email}')\"\n",
    "\n",
    "\n",
    "emp1 = Employee(\"Corey\", \"Schafer\")\n",
    "emp2 = Employee(\"Test\", \"User\")\n"
   ]
  },
  {
   "cell_type": "code",
   "execution_count": 12,
   "metadata": {},
   "outputs": [
    {
     "name": "stdout",
     "output_type": "stream",
     "text": [
      "Jim.Schafer@company.com Jim Schafer\n",
      "Corey.Schafer@company.com Corey Schafer\n",
      "Delete Name! Corey Schafer\n"
     ]
    }
   ],
   "source": [
    "emp1.first = \"Jim\"\n",
    "print(emp1.email, emp1.fullname)\n",
    "\n",
    "emp1.fullname = \"Corey Schafer\"\n",
    "print(emp1.email, emp1.fullname)\n",
    "\n",
    "del emp1.fullname"
   ]
  },
  {
   "cell_type": "code",
   "execution_count": null,
   "metadata": {},
   "outputs": [],
   "source": []
  }
 ],
 "metadata": {
  "kernelspec": {
   "display_name": "Python 3",
   "language": "python",
   "name": "python3"
  },
  "language_info": {
   "codemirror_mode": {
    "name": "ipython",
    "version": 3
   },
   "file_extension": ".py",
   "mimetype": "text/x-python",
   "name": "python",
   "nbconvert_exporter": "python",
   "pygments_lexer": "ipython3",
   "version": "3.11.6"
  }
 },
 "nbformat": 4,
 "nbformat_minor": 2
}
