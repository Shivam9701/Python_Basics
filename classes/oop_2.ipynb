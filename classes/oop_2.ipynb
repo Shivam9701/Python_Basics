{
 "cells": [
  {
   "cell_type": "code",
   "execution_count": 7,
   "metadata": {},
   "outputs": [],
   "source": [
    "class Employee:\n",
    "\n",
    "    num_of_emps = 0  # class variable - shared among all instances\n",
    "    raise_amt = 1.04  # class variable - shared among all instances\n",
    "\n",
    "    def __init__(self, first, last, pay):  # instance variable\n",
    "        self.first = first\n",
    "        self.last = last\n",
    "        self.pay = pay\n",
    "        self.email = f\"{first}.{last}@company.com\"\n",
    "        Employee.num_of_emps += 1\n",
    "\n",
    "    def fullname(self):\n",
    "        return f\"{self.first} {self.last}\"\n",
    "\n",
    "    def __repr__(self) -> str:\n",
    "        return f\"Employee('{self.first}', '{self.last}', '{self.pay}')\"\n",
    "\n",
    "    def apply_raise(self):\n",
    "        self.pay = int(self.pay * self.raise_amt)\n",
    "        return self.pay\n",
    "\n",
    "        # have to ue self.raise_amt to access class variable\n",
    "        # or Employee.raise_amt o/w it will be a error as it will look for raise_amt in instance variable"
   ]
  },
  {
   "cell_type": "code",
   "execution_count": 8,
   "metadata": {},
   "outputs": [
    {
     "name": "stdout",
     "output_type": "stream",
     "text": [
      "Salary of Corey Schafer is 50000 before raise, after raise it is 52000 as raise amount is 1.04\n",
      "Details of Corey Schafer are Employee('Corey', 'Schafer', '52000')\n"
     ]
    }
   ],
   "source": [
    "Employee1 = Employee(\"Corey\", \"Schafer\", 50000)\n",
    "print(\n",
    "    f\"Salary of {Employee1.fullname()} is {Employee1.pay} before raise, after raise it is {Employee1.apply_raise()} as raise amount is {Employee1.raise_amt}\"\n",
    ")\n",
    "print(f\"Details of {Employee1.fullname()} are {Employee1}\")  # __repr__ is called"
   ]
  },
  {
   "cell_type": "code",
   "execution_count": 10,
   "metadata": {},
   "outputs": [
    {
     "name": "stdout",
     "output_type": "stream",
     "text": [
      "Number of employees are 2\n"
     ]
    }
   ],
   "source": [
    "Employee2 = Employee(\"Test\", \"User\", 60000)\n",
    "print(f\"Number of employees are {Employee.num_of_emps}\")\n"
   ]
  },
  {
   "cell_type": "code",
   "execution_count": null,
   "metadata": {},
   "outputs": [],
   "source": []
  }
 ],
 "metadata": {
  "kernelspec": {
   "display_name": "Python 3",
   "language": "python",
   "name": "python3"
  },
  "language_info": {
   "codemirror_mode": {
    "name": "ipython",
    "version": 3
   },
   "file_extension": ".py",
   "mimetype": "text/x-python",
   "name": "python",
   "nbconvert_exporter": "python",
   "pygments_lexer": "ipython3",
   "version": "3.11.6"
  }
 },
 "nbformat": 4,
 "nbformat_minor": 2
}
