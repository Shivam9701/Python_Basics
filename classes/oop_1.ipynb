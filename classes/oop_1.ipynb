{
 "cells": [
  {
   "cell_type": "code",
   "execution_count": 2,
   "metadata": {},
   "outputs": [],
   "source": [
    "class Employee:\n",
    "\n",
    "    def __init__(self, first, last, pay) -> None:  # instance variable\n",
    "        self.first = first\n",
    "        self.last = last\n",
    "        self.pay = pay\n",
    "        self.email = f\"{first}.{last}@company.com\"\n",
    "\n",
    "    def fullname(self):\n",
    "        return f\"{self.first} {self.last}\"\n",
    "\n",
    "    # __repr__ is used to return a string representation of the object\n",
    "    # if _repr_ is not defined, it will return the memory location of the object\n",
    "    # when we print the object\n",
    "\n",
    "    def __repr__(self) -> str:\n",
    "        return f\"Employee('{self.first}', '{self.last}', '{self.pay}')\""
   ]
  },
  {
   "cell_type": "code",
   "execution_count": 3,
   "metadata": {},
   "outputs": [
    {
     "name": "stdout",
     "output_type": "stream",
     "text": [
      "Corey Schafer\n",
      "Employee('Shivam', 'Kumar', '98345')\n",
      "Employee('Corey', 'Schafer', '12356')\n",
      "{'first': 'Shivam', 'last': 'Kumar', 'pay': 98345, 'email': 'Shivam.Kumar@company.com'}\n"
     ]
    }
   ],
   "source": [
    "emp_1 = Employee(\"Corey\", \"Schafer\", 12356)\n",
    "emp_2 = Employee(\"Shivam\", \"Kumar\", 98345)\n",
    "\n",
    "print(emp_1.fullname())\n",
    "print(emp_2.__repr__())\n",
    "print(Employee.__repr__(emp_1))\n",
    "print(emp_2.__dict__)"
   ]
  },
  {
   "cell_type": "code",
   "execution_count": null,
   "metadata": {},
   "outputs": [],
   "source": []
  }
 ],
 "metadata": {
  "kernelspec": {
   "display_name": "Python 3",
   "language": "python",
   "name": "python3"
  },
  "language_info": {
   "codemirror_mode": {
    "name": "ipython",
    "version": 3
   },
   "file_extension": ".py",
   "mimetype": "text/x-python",
   "name": "python",
   "nbconvert_exporter": "python",
   "pygments_lexer": "ipython3",
   "version": "3.11.6"
  }
 },
 "nbformat": 4,
 "nbformat_minor": 2
}
