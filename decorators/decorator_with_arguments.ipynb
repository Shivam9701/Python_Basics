{
 "cells": [
  {
   "cell_type": "code",
   "execution_count": 1,
   "metadata": {},
   "outputs": [
    {
     "name": "stdout",
     "output_type": "stream",
     "text": [
      "LOG: wrapper executed this before display_info\n",
      "display_info ran with arguments (John, 25)\n"
     ]
    }
   ],
   "source": [
    "\n",
    "def prefix_decorator(prefix):\n",
    "    def decorator_function(original_function):\n",
    "        def wrapper_function(*args, **kwargs):\n",
    "            print(f'{prefix} wrapper executed this before {original_function.__name__}')\n",
    "            return original_function(*args, **kwargs)\n",
    "        return wrapper_function\n",
    "    return decorator_function\n",
    "\n",
    "@prefix_decorator('LOG:')\n",
    "def display_info(name, age):\n",
    "    print(f'display_info ran with arguments ({name}, {age})')\n",
    "\n",
    "display_info('John', 25)"
   ]
  },
  {
   "cell_type": "code",
   "execution_count": null,
   "metadata": {},
   "outputs": [],
   "source": []
  }
 ],
 "metadata": {
  "kernelspec": {
   "display_name": "Python 3",
   "language": "python",
   "name": "python3"
  },
  "language_info": {
   "codemirror_mode": {
    "name": "ipython",
    "version": 3
   },
   "file_extension": ".py",
   "mimetype": "text/x-python",
   "name": "python",
   "nbconvert_exporter": "python",
   "pygments_lexer": "ipython3",
   "version": "3.11.6"
  }
 },
 "nbformat": 4,
 "nbformat_minor": 2
}
