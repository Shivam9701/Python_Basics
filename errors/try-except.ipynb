{
 "cells": [
  {
   "cell_type": "code",
   "execution_count": 14,
   "metadata": {},
   "outputs": [
    {
     "name": "stdout",
     "output_type": "stream",
     "text": [
      "something went wrong\n",
      "name 'bad_var' is not defined\n",
      "executing finally...\n"
     ]
    }
   ],
   "source": [
    "try:\n",
    "    f = open('test.txt', 'r')\n",
    "    var = bad_var\n",
    "    \n",
    "# except Exception as e this catches any exception which is not a good practice \n",
    "# more specific exceptions should be used at the top and more general exceptions at the bottom\n",
    "  \n",
    "except FileNotFoundError as fnf: \n",
    "    print('this file does not exist')\n",
    "\n",
    "except Exception as e:\n",
    "    print('something went wrong')\n",
    "    print(e)\n",
    "    \n",
    "# else block is executed if no exception is raised and try block is executed successfully\n",
    "\n",
    "else:\n",
    "    print(f.read(20))\n",
    "    f.close()\n",
    "\n",
    "# finally block is executed no matter what happens\n",
    "# it is used to close files or free resources\n",
    "\n",
    "finally:\n",
    "    print('executing finally...')\n"
   ]
  },
  {
   "cell_type": "code",
   "execution_count": null,
   "metadata": {},
   "outputs": [],
   "source": []
  }
 ],
 "metadata": {
  "kernelspec": {
   "display_name": "Python 3",
   "language": "python",
   "name": "python3"
  },
  "language_info": {
   "codemirror_mode": {
    "name": "ipython",
    "version": 3
   },
   "file_extension": ".py",
   "mimetype": "text/x-python",
   "name": "python",
   "nbconvert_exporter": "python",
   "pygments_lexer": "ipython3",
   "version": "3.11.6"
  }
 },
 "nbformat": 4,
 "nbformat_minor": 2
}
