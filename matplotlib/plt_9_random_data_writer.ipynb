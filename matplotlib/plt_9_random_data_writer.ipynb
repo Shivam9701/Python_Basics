{
 "cells": [
  {
   "cell_type": "code",
   "execution_count": 1,
   "metadata": {},
   "outputs": [
    {
     "name": "stdout",
     "output_type": "stream",
     "text": [
      "0 1000 1000\n",
      "1 1000 1003\n",
      "2 996 1002\n",
      "3 997 1002\n",
      "4 1002 1003\n",
      "5 1001 1007\n",
      "6 1005 1010\n",
      "7 1005 1013\n",
      "8 1011 1009\n",
      "9 1014 1015\n",
      "10 1011 1016\n",
      "11 1019 1019\n",
      "12 1014 1018\n",
      "13 1013 1018\n",
      "14 1010 1017\n",
      "15 1017 1014\n",
      "16 1011 1019\n",
      "17 1010 1021\n",
      "18 1009 1020\n",
      "19 1007 1015\n",
      "20 1008 1011\n",
      "21 1013 1012\n",
      "22 1015 1014\n"
     ]
    },
    {
     "ename": "KeyboardInterrupt",
     "evalue": "",
     "output_type": "error",
     "traceback": [
      "\u001b[1;31m---------------------------------------------------------------------------\u001b[0m",
      "\u001b[1;31mKeyboardInterrupt\u001b[0m                         Traceback (most recent call last)",
      "Cell \u001b[1;32mIn[1], line 28\u001b[0m\n\u001b[0;32m     25\u001b[0m     total_1 \u001b[38;5;241m=\u001b[39m total_1 \u001b[38;5;241m+\u001b[39m random\u001b[38;5;241m.\u001b[39mrandint(\u001b[38;5;241m-\u001b[39m\u001b[38;5;241m6\u001b[39m, \u001b[38;5;241m8\u001b[39m)\n\u001b[0;32m     26\u001b[0m     total_2 \u001b[38;5;241m=\u001b[39m total_2 \u001b[38;5;241m+\u001b[39m random\u001b[38;5;241m.\u001b[39mrandint(\u001b[38;5;241m-\u001b[39m\u001b[38;5;241m5\u001b[39m, \u001b[38;5;241m6\u001b[39m)\n\u001b[1;32m---> 28\u001b[0m time\u001b[38;5;241m.\u001b[39msleep(\u001b[38;5;241m1\u001b[39m)\n",
      "\u001b[1;31mKeyboardInterrupt\u001b[0m: "
     ]
    }
   ],
   "source": [
    "import random\n",
    "import csv\n",
    "import time\n",
    "\n",
    "x_value = 0\n",
    "total_1 = 1000\n",
    "total_2 = 1000\n",
    "\n",
    "fieldnames = [\"x_value\", \"total_1\", \"total_2\"]\n",
    "\n",
    "with open(\"animate_data.csv\", \"w\") as f:\n",
    "    csv_writer = csv.DictWriter(f, fieldnames=fieldnames)\n",
    "    csv_writer.writeheader()\n",
    "\n",
    "while True:\n",
    "    with open(\"animate_data.csv\", \"a\") as f:\n",
    "        csv_writer = csv.DictWriter(f, fieldnames=fieldnames)\n",
    "\n",
    "        info = {\"x_value\": x_value, \"total_1\": total_1, \"total_2\": total_2}\n",
    "\n",
    "        csv_writer.writerow(info)\n",
    "\n",
    "        x_value += 1\n",
    "        total_1 = total_1 + random.randint(-6, 8)\n",
    "        total_2 = total_2 + random.randint(-5, 6)\n",
    "\n",
    "    time.sleep(1)"
   ]
  }
 ],
 "metadata": {
  "kernelspec": {
   "display_name": "Python 3",
   "language": "python",
   "name": "python3"
  },
  "language_info": {
   "codemirror_mode": {
    "name": "ipython",
    "version": 3
   },
   "file_extension": ".py",
   "mimetype": "text/x-python",
   "name": "python",
   "nbconvert_exporter": "python",
   "pygments_lexer": "ipython3",
   "version": "3.11.6"
  }
 },
 "nbformat": 4,
 "nbformat_minor": 2
}
