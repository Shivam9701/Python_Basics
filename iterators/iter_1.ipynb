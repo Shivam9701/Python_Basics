{
 "cells": [
  {
   "cell_type": "code",
   "execution_count": 6,
   "metadata": {},
   "outputs": [
    {
     "name": "stdout",
     "output_type": "stream",
     "text": [
      "['__add__', '__class__', '__class_getitem__', '__contains__', '__delattr__', '__delitem__', '__dir__', '__doc__', '__eq__', '__format__', '__ge__', '__getattribute__', '__getitem__', '__getstate__', '__gt__', '__hash__', '__iadd__', '__imul__', '__init__', '__init_subclass__', '__iter__', '__le__', '__len__', '__lt__', '__mul__', '__ne__', '__new__', '__reduce__', '__reduce_ex__', '__repr__', '__reversed__', '__rmul__', '__setattr__', '__setitem__', '__sizeof__', '__str__', '__subclasshook__', 'append', 'clear', 'copy', 'count', 'extend', 'index', 'insert', 'pop', 'remove', 'reverse', 'sort']\n"
     ]
    }
   ],
   "source": [
    "# iterables - lists, tuples, sets, dictionaries, strings\n",
    "# __iter__ and __next__ methods\n",
    "# iter() is on botg iterable and iterator\n",
    "# next() is on iterator\n",
    "\n",
    "print(dir(list))"
   ]
  },
  {
   "cell_type": "code",
   "execution_count": 8,
   "metadata": {},
   "outputs": [
    {
     "name": "stdout",
     "output_type": "stream",
     "text": [
      "[1, 2, 3]\n",
      "<list_iterator object at 0x00000208F7932320>\n",
      "['__class__', '__delattr__', '__dir__', '__doc__', '__eq__', '__format__', '__ge__', '__getattribute__', '__getstate__', '__gt__', '__hash__', '__init__', '__init_subclass__', '__iter__', '__le__', '__length_hint__', '__lt__', '__ne__', '__new__', '__next__', '__reduce__', '__reduce_ex__', '__repr__', '__setattr__', '__setstate__', '__sizeof__', '__str__', '__subclasshook__']\n"
     ]
    }
   ],
   "source": [
    "# iterators - objects that can be iterated upon\n",
    "# iterable - objects that can return an iterator\n",
    "# iter() - returns an iterator\n",
    "# next() - returns the next item from the iterator\n",
    "# StopIteration - stops iteration\n",
    "\n",
    "nums = [1, 2, 3]\n",
    "i_nums = iter(nums)\n",
    "print(nums)\n",
    "print(i_nums)\n",
    "print(dir(i_nums))"
   ]
  },
  {
   "cell_type": "code",
   "execution_count": 7,
   "metadata": {},
   "outputs": [
    {
     "name": "stdout",
     "output_type": "stream",
     "text": [
      "True\n",
      "True\n",
      "True\n",
      "False\n",
      "True\n",
      "False\n"
     ]
    }
   ],
   "source": [
    "# difference between iterable and iterator\n",
    "# iterable\n",
    "print(\"__iter__\" in dir(nums))\n",
    "# iterator\n",
    "print(\"__iter__\" in dir(i_nums))\n",
    "# iterator\n",
    "print(\"__next__\" in dir(i_nums))\n",
    "# not iterable\n",
    "print(\"__next__\" in dir(nums))\n",
    "# iterable\n",
    "print(\"__iter__\" in dir(range(1, 10)))\n",
    "# not iterator\n",
    "print(\"__next__\" in dir(range(1, 10)))\n"
   ]
  },
  {
   "cell_type": "code",
   "execution_count": null,
   "metadata": {},
   "outputs": [],
   "source": []
  }
 ],
 "metadata": {
  "kernelspec": {
   "display_name": "Python 3",
   "language": "python",
   "name": "python3"
  },
  "language_info": {
   "codemirror_mode": {
    "name": "ipython",
    "version": 3
   },
   "file_extension": ".py",
   "mimetype": "text/x-python",
   "name": "python",
   "nbconvert_exporter": "python",
   "pygments_lexer": "ipython3",
   "version": "3.11.6"
  }
 },
 "nbformat": 4,
 "nbformat_minor": 2
}
