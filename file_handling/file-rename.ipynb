{
 "cells": [
  {
   "cell_type": "code",
   "execution_count": 6,
   "metadata": {},
   "outputs": [
    {
     "name": "stdout",
     "output_type": "stream",
     "text": [
      "aeb-#2.txt\n",
      "dog-#4.txt\n",
      "earth-#3.txt\n",
      "zeb-#1.txt\n"
     ]
    }
   ],
   "source": [
    "import os\n",
    "folder = 'data-for-renaming'\n",
    "os.chdir ('C:/Users/shiva/OneDrive/Desktop/python-basics/data-for-renaming')\n",
    "for filename in os.listdir():\n",
    "    print(filename)\n",
    "    "
   ]
  },
  {
   "cell_type": "code",
   "execution_count": 8,
   "metadata": {},
   "outputs": [],
   "source": [
    "for filename in os.listdir():\n",
    "    fn, fext = os.path.splitext(filename)\n",
    "    name, num = fn.split('-')\n",
    "    newname = num + name + fext\n",
    "    os.rename(filename, newname)\n",
    "   "
   ]
  },
  {
   "cell_type": "code",
   "execution_count": 9,
   "metadata": {},
   "outputs": [
    {
     "name": "stdout",
     "output_type": "stream",
     "text": [
      "#1zeb.txt\n",
      "#2aeb.txt\n",
      "#3earth.txt\n",
      "#4dog.txt\n"
     ]
    }
   ],
   "source": [
    "for filename in os.listdir():\n",
    "    print(filename)\n",
    "    "
   ]
  },
  {
   "cell_type": "code",
   "execution_count": null,
   "metadata": {},
   "outputs": [],
   "source": []
  }
 ],
 "metadata": {
  "kernelspec": {
   "display_name": "Python 3",
   "language": "python",
   "name": "python3"
  },
  "language_info": {
   "codemirror_mode": {
    "name": "ipython",
    "version": 3
   },
   "file_extension": ".py",
   "mimetype": "text/x-python",
   "name": "python",
   "nbconvert_exporter": "python",
   "pygments_lexer": "ipython3",
   "version": "3.11.6"
  }
 },
 "nbformat": 4,
 "nbformat_minor": 2
}
