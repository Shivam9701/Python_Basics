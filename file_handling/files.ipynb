{
 "cells": [
  {
   "cell_type": "code",
   "execution_count": 4,
   "metadata": {},
   "outputs": [
    {
     "name": "stdout",
     "output_type": "stream",
     "text": [
      "<_io.TextIOWrapper name='test.txt' mode='r' encoding='cp1252'> test.txt\n",
      "hi\n",
      "my name is\n",
      "doggu pso\n",
      "False\n",
      "True\n"
     ]
    }
   ],
   "source": [
    "with open('test.txt', 'r') as f:\n",
    "    print(f, f.name)\n",
    "    str = f.read()\n",
    "    print(str)\n",
    "    print(f.closed)\n",
    "print(f.closed)\n"
   ]
  },
  {
   "cell_type": "code",
   "execution_count": 6,
   "metadata": {},
   "outputs": [
    {
     "name": "stdout",
     "output_type": "stream",
     "text": [
      "hi\n",
      "my name is\n",
      "doggu psohi\n",
      "\n",
      "my name is\n",
      "\n",
      "doggu pso\n"
     ]
    }
   ],
   "source": [
    "with open('test.txt', 'r') as f:    \n",
    "    for line in f:\n",
    "        print(line, end='') # end='' to remove the newline character at the end of each line\n"
   ]
  },
  {
   "cell_type": "code",
   "execution_count": 7,
   "metadata": {},
   "outputs": [
    {
     "name": "stdout",
     "output_type": "stream",
     "text": [
      "['hi\\n', 'my name is\\n', 'doggu pso']\n"
     ]
    }
   ],
   "source": [
    "with open('test.txt', 'r') as f:\n",
    "    lines = f.readlines()\n",
    "    print(lines)"
   ]
  },
  {
   "cell_type": "code",
   "execution_count": 16,
   "metadata": {},
   "outputs": [
    {
     "name": "stdout",
     "output_type": "stream",
     "text": [
      "hi\n",
      "my name 11 is\n",
      "doggu  22pso\n",
      "my nam 33e is\n",
      "lsd\n",
      "w 45rite a pro 55gram to pr 65int the fo 75llowing pa 85ttern\n",
      "*\n",
      "** 97\n",
      "***\n",
      "****  109   \n",
      "\n",
      "write 121 a program 131 to print  141the follow 151ing patter 161n\n",
      "****\n",
      "*** 173\n",
      "**\n",
      "*\n",
      "\n",
      "wri 187te a progr 197am to prin 207t the foll 217owing patt 227ern\n",
      "   *\n",
      "  239 **\n",
      " ***\n",
      "\n",
      " 252write a pr 262ogram to p 272rint the f 282ollowing p 292attern\n",
      "    303*\n",
      "  ***\n",
      "   315  *****\n",
      "   326      **** 336***\n",
      "       347  \n",
      "github  358link\n",
      "my na 369me is\n",
      " 376"
     ]
    }
   ],
   "source": [
    "with open('test.txt', 'r') as f:\n",
    "    size_to_read = 10\n",
    "    someText = f.read(size_to_read)\n",
    "    \n",
    "    #f.tell() returns the position of the file pointer\n",
    "    #f.seek() moves the file pointer to a specific position\n",
    "    \n",
    "    while (len(someText) > 0):\n",
    "        print(someText, f.tell(),  end='')\n",
    "        someText = f.read(size_to_read)\n",
    "    \n",
    "# reads the 10 characters of the file after the first 10 characters\n"
   ]
  },
  {
   "cell_type": "code",
   "execution_count": 18,
   "metadata": {},
   "outputs": [],
   "source": [
    "# if file does not exist, it will be created\n",
    "# if file exists, it will be overwritten if mode is 'w'\n",
    "\n",
    "with open('test2.txt', 'w') as f:\n",
    "    f.write('Test2')\n",
    "    f.seek(0)\n",
    "    f.write('R') # overwrites the first character of the file with 'R'\n",
    "    "
   ]
  },
  {
   "cell_type": "code",
   "execution_count": 19,
   "metadata": {},
   "outputs": [],
   "source": [
    "with open('test.txt', 'r') as rf:\n",
    "    with open('test_copy.txt', 'w') as wf:\n",
    "        for line in rf :\n",
    "            wf.write(line)"
   ]
  },
  {
   "cell_type": "code",
   "execution_count": 20,
   "metadata": {},
   "outputs": [],
   "source": [
    "with open ('imh.png', 'rb') as imgr :\n",
    "    with open ('img_copy.png', 'wb') as imgw:\n",
    "        for line in imgr:\n",
    "            imgw.write(line)"
   ]
  },
  {
   "cell_type": "code",
   "execution_count": null,
   "metadata": {},
   "outputs": [],
   "source": [
    "with open ('imh.png', 'rb') as imgr :\n",
    "    with open ('img_copy2.png', 'wb') as imgw:\n",
    "        chunk_size = 4096\n",
    "        to_copy = imgr.read(chunk_size)\n",
    "        while (len(to_copy) > 0):\n",
    "            imgw.write(to_copy)\n",
    "            to_copy = imgr.read(chunk_size)"
   ]
  }
 ],
 "metadata": {
  "kernelspec": {
   "display_name": "Python 3",
   "language": "python",
   "name": "python3"
  },
  "language_info": {
   "codemirror_mode": {
    "name": "ipython",
    "version": 3
   },
   "file_extension": ".py",
   "mimetype": "text/x-python",
   "name": "python",
   "nbconvert_exporter": "python",
   "pygments_lexer": "ipython3",
   "version": "3.11.6"
  }
 },
 "nbformat": 4,
 "nbformat_minor": 2
}
