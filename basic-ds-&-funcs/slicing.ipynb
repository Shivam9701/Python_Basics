{
 "cells": [
  {
   "cell_type": "code",
   "execution_count": 7,
   "metadata": {},
   "outputs": [
    {
     "name": "stdout",
     "output_type": "stream",
     "text": [
      "[0, 10, 11, 2, 3, 4, 5, 6, 7, 8, 9]\n",
      "[0, 10, 11, 2, 3, 4, 5, 6, 7, 12, 13, 8, 9]\n"
     ]
    }
   ],
   "source": [
    "arr = [0, 1, 2, 3, 4, 5, 6, 7, 8, 9]\n",
    "\n",
    "arr[1:2] = [10, 11]\n",
    "print(arr)\n",
    "\n",
    "arr[9:9] = [12, 13]\n",
    "print(arr)"
   ]
  },
  {
   "cell_type": "code",
   "execution_count": 12,
   "metadata": {},
   "outputs": [
    {
     "name": "stdout",
     "output_type": "stream",
     "text": [
      "[9, 8, 13, 12, 7, 6, 5, 4, 3, 2, 11]\n",
      "[10, 2, 4, 6, 12, 8]\n"
     ]
    }
   ],
   "source": [
    "arr[:1:-1]\n",
    "arr2 = arr[:1:-1]\n",
    "print(arr2)\n",
    "arr3 = arr[1::2]\n",
    "print(arr3)"
   ]
  },
  {
   "cell_type": "code",
   "execution_count": null,
   "metadata": {},
   "outputs": [],
   "source": []
  }
 ],
 "metadata": {
  "kernelspec": {
   "display_name": "Python 3",
   "language": "python",
   "name": "python3"
  },
  "language_info": {
   "codemirror_mode": {
    "name": "ipython",
    "version": 3
   },
   "file_extension": ".py",
   "mimetype": "text/x-python",
   "name": "python",
   "nbconvert_exporter": "python",
   "pygments_lexer": "ipython3",
   "version": "3.11.6"
  }
 },
 "nbformat": 4,
 "nbformat_minor": 2
}
