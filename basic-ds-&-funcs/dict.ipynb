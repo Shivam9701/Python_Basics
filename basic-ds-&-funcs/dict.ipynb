{
 "cells": [
  {
   "cell_type": "code",
   "execution_count": 15,
   "metadata": {},
   "outputs": [
    {
     "name": "stdout",
     "output_type": "stream",
     "text": [
      "{}\n",
      "{1: 'apple', 2: 'ball'}\n",
      "{'name': 'John', 1: [2, 4, 3]}\n"
     ]
    }
   ],
   "source": [
    "#empty dict\n",
    "empty_d = {}\n",
    "# other way to create empty dict\n",
    "empty_d = dict()\n",
    "print(empty_d)\n",
    "#dict with integer keys\n",
    "d = {1: 'apple', 2: 'ball'}\n",
    "print(d)\n",
    "#dict with mixed keys\n",
    "d = {'name': 'John', 1: [2, 4, 3]}\n",
    "print(d)"
   ]
  },
  {
   "cell_type": "code",
   "execution_count": 16,
   "metadata": {},
   "outputs": [
    {
     "name": "stdout",
     "output_type": "stream",
     "text": [
      "John\n",
      "[2, 4, 3]\n",
      "John\n",
      "John\n",
      "not found\n"
     ]
    }
   ],
   "source": [
    "\n",
    "print(d['name'])\n",
    "print(d[1])\n",
    "#wrong key will give key error\n",
    "#print(d[2])\n",
    "var = 'name'\n",
    "print(d[var])\n",
    "print(d.get('name'))\n",
    "print(d.get('name1', 'not found'))"
   ]
  },
  {
   "cell_type": "code",
   "execution_count": 17,
   "metadata": {},
   "outputs": [
    {
     "name": "stdout",
     "output_type": "stream",
     "text": [
      "{'name': 'John', 1: [2, 4, 3], 'name1': 'new name', 'name2': 'new name2'}\n",
      "{1: [2, 4, 3], 'name1': 'new name', 'name2': 'new name2'}\n"
     ]
    }
   ],
   "source": [
    "#append new key value\n",
    "d['name1'] = 'new name'\n",
    "d.update({'name2': 'new name2'})\n",
    "print(d)\n",
    "#delete key value\n",
    "del d['name']\n",
    "print(d)"
   ]
  },
  {
   "cell_type": "code",
   "execution_count": 18,
   "metadata": {},
   "outputs": [
    {
     "name": "stdout",
     "output_type": "stream",
     "text": [
      "new name\n",
      "{1: [2, 4, 3], 'name2': 'new name2'}\n"
     ]
    }
   ],
   "source": [
    "#pop\n",
    "print(d.pop('name1'))\n",
    "print(d)"
   ]
  },
  {
   "cell_type": "code",
   "execution_count": 24,
   "metadata": {},
   "outputs": [
    {
     "name": "stdout",
     "output_type": "stream",
     "text": [
      "2\n",
      "dict_keys([1, 'name2'])\n",
      "dict_values([[2, 4, 3], 'new name2'])\n",
      "dict_items([(1, [2, 4, 3]), ('name2', 'new name2')])\n",
      "[(1, [2, 4, 3]), ('name2', 'new name2')]\n",
      "[[1, [2, 4, 3]], ['name2', 'new name2']]\n"
     ]
    }
   ],
   "source": [
    "print(len(d))\n",
    "print(d.keys())\n",
    "print(d.values())\n",
    "print(d.items())\n",
    "new_list = list(d.items())\n",
    "print(new_list)\n",
    "new_list2 = [list(i) for i in d.items()]\n",
    "print(new_list2)\n",
    "# d.items() returns a list of tuples\n",
    "# d.keys() returns a list of keys\n",
    "# d.values() returns a list of values"
   ]
  },
  {
   "cell_type": "code",
   "execution_count": 25,
   "metadata": {},
   "outputs": [
    {
     "name": "stdout",
     "output_type": "stream",
     "text": [
      "1 [2, 4, 3]\n",
      "name2 new name2\n"
     ]
    }
   ],
   "source": [
    "for key, value in d.items():\n",
    "    print(key, value)"
   ]
  }
 ],
 "metadata": {
  "kernelspec": {
   "display_name": "Python 3",
   "language": "python",
   "name": "python3"
  },
  "language_info": {
   "codemirror_mode": {
    "name": "ipython",
    "version": 3
   },
   "file_extension": ".py",
   "mimetype": "text/x-python",
   "name": "python",
   "nbconvert_exporter": "python",
   "pygments_lexer": "ipython3",
   "version": "3.11.6"
  }
 },
 "nbformat": 4,
 "nbformat_minor": 2
}
