{
 "cells": [
  {
   "cell_type": "code",
   "execution_count": 5,
   "metadata": {},
   "outputs": [
    {
     "name": "stdout",
     "output_type": "stream",
     "text": [
      "1 my 1\n",
      "3 name 9\n",
      "5 is 25\n",
      "7 khan 49\n",
      "9 dog 81\n",
      "my 1\n",
      "name 3\n",
      "is 5\n",
      "khan 7\n",
      "dog 9\n"
     ]
    }
   ],
   "source": [
    "l1 = [1, 3, 5, 7, 9]\n",
    "l2 = ['my', 'name', 'is', 'khan', 'dog']\n",
    "l3 = [1, 9, 25, 49, 81]\n",
    "dic = {}\n",
    "\n",
    "for num, word, num2 in zip(l1, l2, l3):\n",
    "    dic[word] = num\n",
    "    print(num, word, num2)\n",
    "\n",
    "for k, v in dic.items():\n",
    "    print(k, v)"
   ]
  },
  {
   "cell_type": "code",
   "execution_count": 6,
   "metadata": {},
   "outputs": [
    {
     "name": "stdout",
     "output_type": "stream",
     "text": [
      "{'my': 1, 'name': 9, 'is': 25, 'khan': 49, 'dog': 81}\n"
     ]
    }
   ],
   "source": [
    "dic2 = {k : v for (k, v) in zip(l2, l3)}\n",
    "print(dic2)"
   ]
  }
 ],
 "metadata": {
  "kernelspec": {
   "display_name": "Python 3",
   "language": "python",
   "name": "python3"
  },
  "language_info": {
   "codemirror_mode": {
    "name": "ipython",
    "version": 3
   },
   "file_extension": ".py",
   "mimetype": "text/x-python",
   "name": "python",
   "nbconvert_exporter": "python",
   "pygments_lexer": "ipython3",
   "version": "3.11.6"
  }
 },
 "nbformat": 4,
 "nbformat_minor": 2
}
