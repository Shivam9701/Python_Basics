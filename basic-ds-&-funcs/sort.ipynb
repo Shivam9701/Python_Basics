{
 "cells": [
  {
   "cell_type": "code",
   "execution_count": 4,
   "metadata": {},
   "outputs": [
    {
     "name": "stdout",
     "output_type": "stream",
     "text": [
      "[0, 1, 1, 2, 3, 6, 7]\n",
      "[1, 7, 2, 3, 6, 0, 1]\n",
      "[7, 6, 3, 2, 1, 1, 0]\n"
     ]
    }
   ],
   "source": [
    "li = [1 ,7, 2, 3, 6, 0, 1]\n",
    "l2 = sorted(li)\n",
    "print(l2)\n",
    "print(li)\n",
    "li.sort(reverse=True)\n",
    "print(li)"
   ]
  },
  {
   "cell_type": "code",
   "execution_count": 6,
   "metadata": {},
   "outputs": [
    {
     "name": "stdout",
     "output_type": "stream",
     "text": [
      "[-20, -19, -1, 0, 1, 1, 2, 3, 6, 7]\n",
      "[0, 1, 1, -1, 2, 3, 6, 7, -19, -20]\n"
     ]
    }
   ],
   "source": [
    "tup = (1, 7, 2, 3, 6, 0, 1, -1 , -19, -20)\n",
    "t2 = sorted(tup)\n",
    "print(t2)\n",
    "\n",
    "t3 = sorted(tup, key = abs)\n",
    "print(t3)\n",
    "# key = abs is a function that returns the absolute value of a number\n"
   ]
  },
  {
   "cell_type": "code",
   "execution_count": 9,
   "metadata": {},
   "outputs": [
    {
     "name": "stdout",
     "output_type": "stream",
     "text": [
      "[(0, 1), (2, 3), (7, 6)]\n"
     ]
    }
   ],
   "source": [
    "mixed_llist = [(2, 3), (0, 1), (7, 6)]\n",
    "def f(item):\n",
    "    return item[1]\n",
    "mixed_llist.sort(key=f)\n",
    "print(mixed_llist)"
   ]
  }
 ],
 "metadata": {
  "kernelspec": {
   "display_name": "Python 3",
   "language": "python",
   "name": "python3"
  },
  "language_info": {
   "codemirror_mode": {
    "name": "ipython",
    "version": 3
   },
   "file_extension": ".py",
   "mimetype": "text/x-python",
   "name": "python",
   "nbconvert_exporter": "python",
   "pygments_lexer": "ipython3",
   "version": "3.11.6"
  }
 },
 "nbformat": 4,
 "nbformat_minor": 2
}
