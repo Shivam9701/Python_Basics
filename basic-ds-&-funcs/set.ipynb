{
 "cells": [
  {
   "cell_type": "code",
   "execution_count": 4,
   "metadata": {},
   "outputs": [
    {
     "name": "stdout",
     "output_type": "stream",
     "text": [
      "{'Math', 'Physics', 'CompSci', 'History'}\n"
     ]
    }
   ],
   "source": [
    "set1 = {'History', 'Math', 'Physics', 'CompSci','Math'}\n",
    "# sets are unordered and have no duplicates\n",
    "print(set1)\n",
    "#empty set is created using set()\n",
    "set2 = set()\n",
    "#set2 = {} will create an empty dictionary\n"
   ]
  },
  {
   "cell_type": "code",
   "execution_count": 6,
   "metadata": {},
   "outputs": [
    {
     "name": "stdout",
     "output_type": "stream",
     "text": [
      "True\n",
      "False\n"
     ]
    }
   ],
   "source": [
    "# membership test\n",
    "print('Math' in set1)\n",
    "print('Art' in set1)"
   ]
  },
  {
   "cell_type": "code",
   "execution_count": 9,
   "metadata": {},
   "outputs": [
    {
     "name": "stdout",
     "output_type": "stream",
     "text": [
      "{'Math', 'History'}\n",
      "{'Math', 'Design', 'Art', 'CompSci', 'History', 'Physics'}\n",
      "{'CompSci', 'Physics'}\n"
     ]
    }
   ],
   "source": [
    "set2 = {'History', 'Math', 'Art', 'Design'}\n",
    "# intersection\n",
    "print(set1.intersection(set2))\n",
    "# union\n",
    "print(set1.union(set2))\n",
    "# difference\n",
    "print(set1.difference(set2))"
   ]
  }
 ],
 "metadata": {
  "kernelspec": {
   "display_name": "Python 3",
   "language": "python",
   "name": "python3"
  },
  "language_info": {
   "codemirror_mode": {
    "name": "ipython",
    "version": 3
   },
   "file_extension": ".py",
   "mimetype": "text/x-python",
   "name": "python",
   "nbconvert_exporter": "python",
   "pygments_lexer": "ipython3",
   "version": "3.11.6"
  }
 },
 "nbformat": 4,
 "nbformat_minor": 2
}
