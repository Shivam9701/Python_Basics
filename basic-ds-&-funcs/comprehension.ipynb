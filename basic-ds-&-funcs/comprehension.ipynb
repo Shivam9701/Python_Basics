{
 "cells": [
  {
   "cell_type": "code",
   "execution_count": 2,
   "metadata": {},
   "outputs": [],
   "source": [
    "list1 = [int(x) for x in input().split()]"
   ]
  },
  {
   "cell_type": "code",
   "execution_count": 3,
   "metadata": {},
   "outputs": [
    {
     "data": {
      "text/plain": [
       "[1, 3, 5, 7, 9]"
      ]
     },
     "execution_count": 3,
     "metadata": {},
     "output_type": "execute_result"
    }
   ],
   "source": [
    "list1"
   ]
  },
  {
   "cell_type": "code",
   "execution_count": 4,
   "metadata": {},
   "outputs": [
    {
     "data": {
      "text/plain": [
       "[1, 9, 25, 49, 81]"
      ]
     },
     "execution_count": 4,
     "metadata": {},
     "output_type": "execute_result"
    }
   ],
   "source": [
    "list2 = [ x*x for x in list1]\n",
    "list2"
   ]
  },
  {
   "cell_type": "code",
   "execution_count": 22,
   "metadata": {},
   "outputs": [
    {
     "name": "stdout",
     "output_type": "stream",
     "text": [
      "[(1, 4), (1, 9), (1, 16), (1, 36), (2, 1), (2, 4), (2, 9), (2, 16), (2, 36), (3, 1), (3, 4), (3, 9), (3, 16), (3, 36), (4, 1), (4, 9), (4, 16), (4, 36), (6, 1), (6, 4), (6, 9), (6, 16), (6, 36)]\n"
     ]
    },
    {
     "ename": "TypeError",
     "evalue": "'list' object is not callable",
     "output_type": "error",
     "traceback": [
      "\u001b[1;31m---------------------------------------------------------------------------\u001b[0m",
      "\u001b[1;31mTypeError\u001b[0m                                 Traceback (most recent call last)",
      "\u001b[1;32mc:\\Users\\shiva\\OneDrive\\Desktop\\python-basics\\comprehension.ipynb Cell 4\u001b[0m line \u001b[0;36m9\n\u001b[0;32m      <a href='vscode-notebook-cell:/c%3A/Users/shiva/OneDrive/Desktop/python-basics/comprehension.ipynb#W4sZmlsZQ%3D%3D?line=3'>4</a>\u001b[0m \u001b[39m#zip function is used to combine two lists into a single list\u001b[39;00m\n\u001b[0;32m      <a href='vscode-notebook-cell:/c%3A/Users/shiva/OneDrive/Desktop/python-basics/comprehension.ipynb#W4sZmlsZQ%3D%3D?line=4'>5</a>\u001b[0m \u001b[39m#if the lists are of different lengths, \u001b[39;00m\n\u001b[0;32m      <a href='vscode-notebook-cell:/c%3A/Users/shiva/OneDrive/Desktop/python-basics/comprehension.ipynb#W4sZmlsZQ%3D%3D?line=5'>6</a>\u001b[0m \u001b[39m#the result will be the length of the shorter list\u001b[39;00m\n\u001b[0;32m      <a href='vscode-notebook-cell:/c%3A/Users/shiva/OneDrive/Desktop/python-basics/comprehension.ipynb#W4sZmlsZQ%3D%3D?line=7'>8</a>\u001b[0m list4 \u001b[39m=\u001b[39m \u001b[39mzip\u001b[39m(\u001b[39mlist\u001b[39m, list2)\n\u001b[1;32m----> <a href='vscode-notebook-cell:/c%3A/Users/shiva/OneDrive/Desktop/python-basics/comprehension.ipynb#W4sZmlsZQ%3D%3D?line=8'>9</a>\u001b[0m r \u001b[39m=\u001b[39m \u001b[39mlist\u001b[39;49m(list4)\n\u001b[0;32m     <a href='vscode-notebook-cell:/c%3A/Users/shiva/OneDrive/Desktop/python-basics/comprehension.ipynb#W4sZmlsZQ%3D%3D?line=9'>10</a>\u001b[0m \u001b[39mprint\u001b[39m(r)\n",
      "\u001b[1;31mTypeError\u001b[0m: 'list' object is not callable"
     ]
    }
   ],
   "source": [
    "#list compr for two lists\n",
    "list3 = [ (x, y) for x in list for y in list2 if x != y]\n",
    "print(list3)\n",
    "#zip function is used to combine multiple iters into a single iterator\n",
    "#if the lists are of different lengths, \n",
    "#the result will be the length of the shorter list\n",
    "\n",
    "list4 = list(zip(list, list2))\n",
    "print(list4)\n"
   ]
  },
  {
   "cell_type": "code",
   "execution_count": 11,
   "metadata": {},
   "outputs": [
    {
     "name": "stdout",
     "output_type": "stream",
     "text": [
      "{1: 1, 2: 4, 3: 9, 4: 16, 6: 36}\n"
     ]
    },
    {
     "data": {
      "text/plain": [
       "{1, 2, 3, 4, 6}"
      ]
     },
     "execution_count": 11,
     "metadata": {},
     "output_type": "execute_result"
    }
   ],
   "source": [
    "# dictt comprehension\n",
    "\n",
    "dictt = {x: x*x for x in list}\n",
    "print(dictt)\n",
    "\n",
    "# set comprehension\n",
    "set1 = {x for x in list}\n",
    "set1"
   ]
  }
 ],
 "metadata": {
  "kernelspec": {
   "display_name": "Python 3",
   "language": "python",
   "name": "python3"
  },
  "language_info": {
   "codemirror_mode": {
    "name": "ipython",
    "version": 3
   },
   "file_extension": ".py",
   "mimetype": "text/x-python",
   "name": "python",
   "nbconvert_exporter": "python",
   "pygments_lexer": "ipython3",
   "version": "3.11.6"
  }
 },
 "nbformat": 4,
 "nbformat_minor": 2
}
